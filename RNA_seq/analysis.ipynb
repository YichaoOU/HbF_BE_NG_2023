{
 "cells": [
  {
   "cell_type": "code",
   "execution_count": 1,
   "metadata": {
    "execution": {
     "iopub.execute_input": "2023-01-23T20:24:24.928914Z",
     "iopub.status.busy": "2023-01-23T20:24:24.928758Z",
     "iopub.status.idle": "2023-01-23T20:25:14.149851Z",
     "shell.execute_reply": "2023-01-23T20:25:14.149422Z",
     "shell.execute_reply.started": "2023-01-23T20:24:24.928874Z"
    },
    "tags": []
   },
   "outputs": [],
   "source": [
    "import pandas as pd\n",
    "import glob\n",
    "from scipy.stats import chi2_contingency\n",
    "# table = np.array([[60000, 600000], [70000, 700000]])\n",
    "# oddsr, p = fisher_exact(table, alternative='two-sided')"
   ]
  },
  {
   "cell_type": "code",
   "execution_count": 2,
   "metadata": {
    "execution": {
     "iopub.execute_input": "2023-01-23T20:25:14.150550Z",
     "iopub.status.busy": "2023-01-23T20:25:14.150412Z",
     "iopub.status.idle": "2023-01-23T20:25:14.176426Z",
     "shell.execute_reply": "2023-01-23T20:25:14.176072Z",
     "shell.execute_reply.started": "2023-01-23T20:25:14.150535Z"
    },
    "tags": []
   },
   "outputs": [
    {
     "data": {
      "text/plain": [
       "['2515878_DOE16_18_S119_L002Aligned.sortedByCoord.out.bam_REDItool_results/DnaRna_395749928/outTable_395749928.out.txt',\n",
       " '2515870_DOE16_10_S111_L002Aligned.sortedByCoord.out.bam_REDItool_results/DnaRna_956748546/outTable_956748546.out.txt',\n",
       " '2515866_DOE16_6_S107_L002Aligned.sortedByCoord.out.bam_REDItool_results/DnaRna_763253069/outTable_763253069.out.txt',\n",
       " '2515864_DOE16_4_S105_L002Aligned.sortedByCoord.out.bam_REDItool_results/DnaRna_33384516/outTable_33384516.out.txt',\n",
       " '2515882_DOE16_22_S123_L002Aligned.sortedByCoord.out.bam_REDItool_results/DnaRna_890859254/outTable_890859254.out.txt',\n",
       " '2515867_DOE16_7_S108_L002Aligned.sortedByCoord.out.bam_REDItool_results/DnaRna_54986431/outTable_54986431.out.txt',\n",
       " '2515876_DOE16_16_S117_L002Aligned.sortedByCoord.out.bam_REDItool_results/DnaRna_798552579/outTable_798552579.out.txt',\n",
       " '2515879_DOE16_19_S120_L002Aligned.sortedByCoord.out.bam_REDItool_results/DnaRna_298885138/outTable_298885138.out.txt',\n",
       " '2515868_DOE16_8_S109_L002Aligned.sortedByCoord.out.bam_REDItool_results/DnaRna_214367958/outTable_214367958.out.txt',\n",
       " '2515863_DOE16_3_S104_L002Aligned.sortedByCoord.out.bam_REDItool_results/DnaRna_181353360/outTable_181353360.out.txt',\n",
       " '2515872_DOE16_12_S113_L002Aligned.sortedByCoord.out.bam_REDItool_results/DnaRna_4748797/outTable_4748797.out.txt',\n",
       " '2515873_DOE16_13_S114_L002Aligned.sortedByCoord.out.bam_REDItool_results/DnaRna_264135222/outTable_264135222.out.txt',\n",
       " '2515875_DOE16_15_S116_L002Aligned.sortedByCoord.out.bam_REDItool_results/DnaRna_913340846/outTable_913340846.out.txt',\n",
       " '2515874_DOE16_14_S115_L002Aligned.sortedByCoord.out.bam_REDItool_results/DnaRna_420828473/outTable_420828473.out.txt',\n",
       " '2515884_DOE16_24_S125_L002Aligned.sortedByCoord.out.bam_REDItool_results/DnaRna_356231654/outTable_356231654.out.txt',\n",
       " '2515883_DOE16_23_S124_L002Aligned.sortedByCoord.out.bam_REDItool_results/DnaRna_977137843/outTable_977137843.out.txt',\n",
       " '2515881_DOE16_21_S122_L002Aligned.sortedByCoord.out.bam_REDItool_results/DnaRna_953114087/outTable_953114087.out.txt',\n",
       " '2515877_DOE16_17_S118_L002Aligned.sortedByCoord.out.bam_REDItool_results/DnaRna_555508919/outTable_555508919.out.txt',\n",
       " '2515865_DOE16_5_S106_L002Aligned.sortedByCoord.out.bam_REDItool_results/DnaRna_572467056/outTable_572467056.out.txt',\n",
       " '2515861_DOE16_1_S102_L002Aligned.sortedByCoord.out.bam_REDItool_results/DnaRna_548563979/outTable_548563979.out.txt',\n",
       " '2515871_DOE16_11_S112_L002Aligned.sortedByCoord.out.bam_REDItool_results/DnaRna_691391021/outTable_691391021.out.txt',\n",
       " '2515862_DOE16_2_S103_L002Aligned.sortedByCoord.out.bam_REDItool_results/DnaRna_684959211/outTable_684959211.out.txt',\n",
       " '2515880_DOE16_20_S121_L002Aligned.sortedByCoord.out.bam_REDItool_results/DnaRna_193736428/outTable_193736428.out.txt',\n",
       " '2515869_DOE16_9_S110_L002Aligned.sortedByCoord.out.bam_REDItool_results/DnaRna_26621199/outTable_26621199.out.txt']"
      ]
     },
     "execution_count": 2,
     "metadata": {},
     "output_type": "execute_result"
    }
   ],
   "source": [
    "glob.glob(\"*results/*/*out.txt\")"
   ]
  },
  {
   "cell_type": "code",
   "execution_count": 4,
   "metadata": {
    "execution": {
     "iopub.execute_input": "2022-11-26T17:48:58.724685Z",
     "iopub.status.busy": "2022-11-26T17:48:58.724495Z",
     "iopub.status.idle": "2022-11-26T17:48:58.858587Z",
     "shell.execute_reply": "2022-11-26T17:48:58.858193Z",
     "shell.execute_reply.started": "2022-11-26T17:48:58.724669Z"
    }
   },
   "outputs": [
    {
     "name": "stdout",
     "output_type": "stream",
     "text": [
      "Total plus-strand A reads = 579488508\n",
      "plus strand A-to-I reads = 291620\n",
      "Total minus-strand A reads = 576894159\n",
      "minus strand A-to-I reads = 366276"
     ]
    }
   ],
   "source": [
    "!head 2490701_DOE14_ABE0006_S62Aligned.sortedByCoord.out.bam_REDItool_results/DnaRna_408788427/outTable_408788427.out.txt"
   ]
  },
  {
   "cell_type": "code",
   "execution_count": 6,
   "metadata": {
    "execution": {
     "iopub.execute_input": "2022-11-26T17:50:46.404013Z",
     "iopub.status.busy": "2022-11-26T17:50:46.403831Z",
     "iopub.status.idle": "2022-11-26T17:50:46.412904Z",
     "shell.execute_reply": "2022-11-26T17:50:46.412570Z",
     "shell.execute_reply.started": "2022-11-26T17:50:46.403998Z"
    },
    "tags": []
   },
   "outputs": [
    {
     "data": {
      "text/html": [
       "<div>\n",
       "<style scoped>\n",
       "    .dataframe tbody tr th:only-of-type {\n",
       "        vertical-align: middle;\n",
       "    }\n",
       "\n",
       "    .dataframe tbody tr th {\n",
       "        vertical-align: top;\n",
       "    }\n",
       "\n",
       "    .dataframe thead th {\n",
       "        text-align: right;\n",
       "    }\n",
       "</style>\n",
       "<table border=\"1\" class=\"dataframe\">\n",
       "  <thead>\n",
       "    <tr style=\"text-align: right;\">\n",
       "      <th></th>\n",
       "      <th>0</th>\n",
       "      <th>1</th>\n",
       "      <th>2</th>\n",
       "      <th>3</th>\n",
       "      <th>4</th>\n",
       "      <th>5</th>\n",
       "    </tr>\n",
       "  </thead>\n",
       "  <tbody>\n",
       "    <tr>\n",
       "      <th>0</th>\n",
       "      <td>Total</td>\n",
       "      <td>plus-strand</td>\n",
       "      <td>A</td>\n",
       "      <td>reads</td>\n",
       "      <td>=</td>\n",
       "      <td>579488508</td>\n",
       "    </tr>\n",
       "    <tr>\n",
       "      <th>1</th>\n",
       "      <td>plus</td>\n",
       "      <td>strand</td>\n",
       "      <td>A-to-I</td>\n",
       "      <td>reads</td>\n",
       "      <td>=</td>\n",
       "      <td>291620</td>\n",
       "    </tr>\n",
       "    <tr>\n",
       "      <th>2</th>\n",
       "      <td>Total</td>\n",
       "      <td>minus-strand</td>\n",
       "      <td>A</td>\n",
       "      <td>reads</td>\n",
       "      <td>=</td>\n",
       "      <td>576894159</td>\n",
       "    </tr>\n",
       "    <tr>\n",
       "      <th>3</th>\n",
       "      <td>minus</td>\n",
       "      <td>strand</td>\n",
       "      <td>A-to-I</td>\n",
       "      <td>reads</td>\n",
       "      <td>=</td>\n",
       "      <td>366276</td>\n",
       "    </tr>\n",
       "  </tbody>\n",
       "</table>\n",
       "</div>"
      ],
      "text/plain": [
       "       0             1       2      3  4          5\n",
       "0  Total   plus-strand       A  reads  =  579488508\n",
       "1   plus        strand  A-to-I  reads  =     291620\n",
       "2  Total  minus-strand       A  reads  =  576894159\n",
       "3  minus        strand  A-to-I  reads  =     366276"
      ]
     },
     "execution_count": 6,
     "metadata": {},
     "output_type": "execute_result"
    }
   ],
   "source": [
    "f=\"2490701_DOE14_ABE0006_S62Aligned.sortedByCoord.out.bam_REDItool_results/DnaRna_408788427/outTable_408788427.out.txt\"\n",
    "df = pd.read_csv(f,sep=\" \",header=None)\n",
    "df"
   ]
  },
  {
   "cell_type": "code",
   "execution_count": 3,
   "metadata": {
    "execution": {
     "iopub.execute_input": "2023-01-23T20:29:27.991929Z",
     "iopub.status.busy": "2023-01-23T20:29:27.991699Z",
     "iopub.status.idle": "2023-01-23T20:29:28.369387Z",
     "shell.execute_reply": "2023-01-23T20:29:28.369036Z",
     "shell.execute_reply.started": "2023-01-23T20:29:27.991912Z"
    },
    "tags": []
   },
   "outputs": [
    {
     "name": "stdout",
     "output_type": "stream",
     "text": [
      "2515878_DOE16_18_S119_L002Aligned.sortedByCoord.out.bam_REDItool_results\n",
      "(1136077, 1998615774, 0.0005684319191208385)\n",
      "2515870_DOE16_10_S111_L002Aligned.sortedByCoord.out.bam_REDItool_results\n",
      "(1011941, 1816016656, 0.0005572311226643287)\n",
      "2515866_DOE16_6_S107_L002Aligned.sortedByCoord.out.bam_REDItool_results\n",
      "(948091, 1556031009, 0.0006093008394539006)\n",
      "2515864_DOE16_4_S105_L002Aligned.sortedByCoord.out.bam_REDItool_results\n",
      "(903187, 1357346681, 0.0006654062758193756)\n",
      "2515882_DOE16_22_S123_L002Aligned.sortedByCoord.out.bam_REDItool_results\n",
      "(817444, 1450541217, 0.0005635441381601224)\n",
      "2515867_DOE16_7_S108_L002Aligned.sortedByCoord.out.bam_REDItool_results\n",
      "(1368793, 1634152409, 0.0008376164869699128)\n",
      "2515876_DOE16_16_S117_L002Aligned.sortedByCoord.out.bam_REDItool_results\n",
      "(1333037, 2082047591, 0.0006402528961212395)\n",
      "2515879_DOE16_19_S120_L002Aligned.sortedByCoord.out.bam_REDItool_results\n",
      "(1052469, 1623183228, 0.000648398148677766)\n",
      "2515868_DOE16_8_S109_L002Aligned.sortedByCoord.out.bam_REDItool_results\n",
      "(1784770, 2567065680, 0.0006952568506155245)\n",
      "2515863_DOE16_3_S104_L002Aligned.sortedByCoord.out.bam_REDItool_results\n",
      "(1059571, 1691848652, 0.0006262800155010556)\n",
      "2515872_DOE16_12_S113_L002Aligned.sortedByCoord.out.bam_REDItool_results\n",
      "(773633, 1227636648, 0.0006301807633882237)\n",
      "2515873_DOE16_13_S114_L002Aligned.sortedByCoord.out.bam_REDItool_results\n",
      "(1025864, 1750121856, 0.0005861671840066432)\n",
      "2515875_DOE16_15_S116_L002Aligned.sortedByCoord.out.bam_REDItool_results\n",
      "(1103213, 1710455747, 0.0006449819014230246)\n",
      "2515874_DOE16_14_S115_L002Aligned.sortedByCoord.out.bam_REDItool_results\n",
      "(842663, 1376707875, 0.0006120855522817432)\n",
      "2515884_DOE16_24_S125_L002Aligned.sortedByCoord.out.bam_REDItool_results\n",
      "(839836, 1502821992, 0.0005588393066316001)\n",
      "2515883_DOE16_23_S124_L002Aligned.sortedByCoord.out.bam_REDItool_results\n",
      "(1101549, 1965940163, 0.0005603166468297031)\n",
      "2515881_DOE16_21_S122_L002Aligned.sortedByCoord.out.bam_REDItool_results\n",
      "(1031805, 1887366326, 0.0005466903726033735)\n",
      "2515877_DOE16_17_S118_L002Aligned.sortedByCoord.out.bam_REDItool_results\n",
      "(1271070, 2216711493, 0.0005734034419967705)\n",
      "2515865_DOE16_5_S106_L002Aligned.sortedByCoord.out.bam_REDItool_results\n",
      "(1181321, 1899926590, 0.0006217719180402649)\n",
      "2515861_DOE16_1_S102_L002Aligned.sortedByCoord.out.bam_REDItool_results\n",
      "(973545, 1626129174, 0.0005986886008601922)\n",
      "2515871_DOE16_11_S112_L002Aligned.sortedByCoord.out.bam_REDItool_results\n",
      "(854081, 1297750194, 0.0006581243477741294)\n",
      "2515862_DOE16_2_S103_L002Aligned.sortedByCoord.out.bam_REDItool_results\n",
      "(1261945, 2163699012, 0.0005832350031132704)\n",
      "2515880_DOE16_20_S121_L002Aligned.sortedByCoord.out.bam_REDItool_results\n",
      "(728248, 1080111959, 0.0006742338087564865)\n",
      "2515869_DOE16_9_S110_L002Aligned.sortedByCoord.out.bam_REDItool_results\n",
      "(1291673, 2309677537, 0.0005592438681625365)\n"
     ]
    }
   ],
   "source": [
    "def parse_df(f):\n",
    "    df = pd.read_csv(f,sep=\" \",header=None)[5].tolist()\n",
    "    total=df[0]+df[2]\n",
    "    G=df[1]+df[3]\n",
    "    return G,total,G/total\n",
    "for f in glob.glob(\"*results/*/*out.txt\"):\n",
    "    print (f.split(\"/\")[0])\n",
    "    print (parse_df(f))\n"
   ]
  }
 ],
 "metadata": {
  "kernelspec": {
   "display_name": "Python 3",
   "language": "python",
   "name": "python3"
  },
  "language_info": {
   "codemirror_mode": {
    "name": "ipython",
    "version": 3
   },
   "file_extension": ".py",
   "mimetype": "text/x-python",
   "name": "python",
   "nbconvert_exporter": "python",
   "pygments_lexer": "ipython3",
   "version": "3.8.12"
  }
 },
 "nbformat": 4,
 "nbformat_minor": 4
}
